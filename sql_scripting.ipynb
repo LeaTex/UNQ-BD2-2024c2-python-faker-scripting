{
 "cells": [
  {
   "cell_type": "code",
   "execution_count": 2,
   "id": "4048f318",
   "metadata": {},
   "outputs": [],
   "source": [
    "import pyodbc\n",
    "from random import randrange\n",
    "from faker import Faker\n",
    "from faker_marketdata import MarketDataProvider\n",
    "from faker.providers import DynamicProvider\n",
    "\n",
    "fake = Faker()\n",
    "fake.add_provider(MarketDataProvider)\n",
    "\n",
    "# cantidad de registros a generar\n",
    "num_records = 50\n",
    "\n",
    "# preparo conexión a la BD\n",
    "conn = pyodbc.connect('DRIVER={SQL Server};SERVER=MYSERVER\\SQLEXPRESS;DATABASE=metastock;UID=sa;PWD=somepass')"
   ]
  },
  {
   "cell_type": "code",
   "execution_count": 3,
   "id": "f5e3f348",
   "metadata": {},
   "outputs": [],
   "source": [
    "# emisores ya persistidos (para mantener integridad de datos)\n",
    "cursor = conn.cursor()\n",
    "issuers = cursor.execute(\"SELECT issuer_id FROM issuers;\").fetchall()\n",
    "cursor.close()\n",
    "\n",
    "issuer_provider = DynamicProvider(\n",
    "     provider_name = \"issuer\",\n",
    "     elements = [id.rstrip() for id, in issuers],\n",
    ")\n",
    "fake.add_provider(issuer_provider)"
   ]
  },
  {
   "cell_type": "code",
   "execution_count": null,
   "id": "3d3bca61",
   "metadata": {},
   "outputs": [],
   "source": [
    "# script para la tabla SECURITIES\n",
    "\n",
    "print(\"INSERT INTO dbo.securities (isin_code, ticker, name, issuer, issue_date, issue_amount) VALUES \")\n",
    "for i in range(num_records):\n",
    "\n",
    "    isin_code = fake.unique.isin()\n",
    "    ticker = fake.unique.ticker()\n",
    "    name = fake.name()\n",
    "    issuer = fake.issuer()\n",
    "    issue_date = fake.date()\n",
    "    issue_amount = fake.random_int(min = 10000000, max = 100000000, step = 1000000)\n",
    "    \n",
    "    separator = ';' if (i == num_records-1) else ','\n",
    "\n",
    "    print(f\"\\t('{isin_code}', '{ticker}', '{name}', '{issuer}', '{issue_date}', {issue_amount}){separator}\")"
   ]
  },
  {
   "cell_type": "code",
   "execution_count": 5,
   "id": "19cf4666",
   "metadata": {},
   "outputs": [],
   "source": [
    "# monedas ya persistidos (para mantener integridad de datos)\n",
    "cursor = conn.cursor()\n",
    "currencies = cursor.execute(\"SELECT iso_code FROM currencies;\").fetchall()\n",
    "cursor.close()\n",
    "\n",
    "currency_provider = DynamicProvider(\n",
    "     provider_name = \"currency\",\n",
    "     elements = [code.rstrip() for code, in currencies],\n",
    ")\n",
    "fake.add_provider(currency_provider)"
   ]
  },
  {
   "cell_type": "code",
   "execution_count": 6,
   "id": "d59ade5f",
   "metadata": {},
   "outputs": [],
   "source": [
    "# productos ya persistidos (para mantener integridad de datos)\n",
    "cursor = conn.cursor()\n",
    "securities = cursor.execute(\"SELECT ticker FROM securities;\").fetchall()\n",
    "cursor.close()\n",
    "\n",
    "security_provider = DynamicProvider(\n",
    "     provider_name = \"security\",\n",
    "     elements = [ticker.rstrip() for ticker, in securities],\n",
    ")\n",
    "fake.add_provider(security_provider)"
   ]
  },
  {
   "cell_type": "code",
   "execution_count": 7,
   "id": "f86c509e",
   "metadata": {},
   "outputs": [],
   "source": [
    "# operadores ya persistidos (para mantener integridad de datos)\n",
    "cursor = conn.cursor()\n",
    "operators = cursor.execute(\"SELECT username FROM operators;\").fetchall()\n",
    "cursor.close()\n",
    "\n",
    "operator_provider = DynamicProvider(\n",
    "     provider_name = \"operator\",\n",
    "     elements = [username.rstrip() for username, in operators],\n",
    ")\n",
    "fake.add_provider(operator_provider)"
   ]
  },
  {
   "cell_type": "code",
   "execution_count": null,
   "id": "7f57f2ed",
   "metadata": {},
   "outputs": [],
   "source": [
    "# script para la tabla TRADES\n",
    "import uuid\n",
    "\n",
    "print(\"INSERT INTO dbo.trades (trade_id, agreement_date, quantity, security, price, currency, operator) VALUES \")\n",
    "\n",
    "for i in range(num_records):\n",
    "\n",
    "    trade_id = uuid.uuid4()\n",
    "    agreement_date = fake.date_between(start_date = '-5y', end_date = 'today')\n",
    "    quantity = fake.random_int(min = 10, max = 1000000, step = 5)\n",
    "    security = fake.security()\n",
    "    price = fake.random_int(min = 5, max = 1000) / 100\n",
    "    currency = fake.currency()\n",
    "    operator = fake.operator()\n",
    "    \n",
    "    separator = ';' if (i == num_records-1) else ','\n",
    "\n",
    "    print(f\"\\t('{trade_id}', '{agreement_date}', {quantity}, '{security}', {price}, '{currency}', '{operator}'){separator}\")"
   ]
  },
  {
   "cell_type": "code",
   "execution_count": 9,
   "id": "922ba61c",
   "metadata": {},
   "outputs": [],
   "source": [
    "conn.close()"
   ]
  }
 ],
 "metadata": {
  "kernelspec": {
   "display_name": "Python 3 (ipykernel)",
   "language": "python",
   "name": "python3"
  },
  "language_info": {
   "codemirror_mode": {
    "name": "ipython",
    "version": 3
   },
   "file_extension": ".py",
   "mimetype": "text/x-python",
   "name": "python",
   "nbconvert_exporter": "python",
   "pygments_lexer": "ipython3",
   "version": "3.11.1"
  }
 },
 "nbformat": 4,
 "nbformat_minor": 5
}
