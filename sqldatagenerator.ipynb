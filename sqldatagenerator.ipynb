{
 "cells": [
  {
   "cell_type": "code",
   "execution_count": 2,
   "id": "aa6a20ac",
   "metadata": {},
   "outputs": [
    {
     "name": "stdout",
     "output_type": "stream",
     "text": [
      "Collecting faker\n",
      "  Downloading Faker-28.4.1-py3-none-any.whl.metadata (15 kB)\n",
      "Requirement already satisfied: python-dateutil>=2.4 in c:\\users\\leandro\\.pyenv\\pyenv-win\\versions\\3.11.1\\lib\\site-packages (from faker) (2.8.2)\n",
      "Requirement already satisfied: six>=1.5 in c:\\users\\leandro\\.pyenv\\pyenv-win\\versions\\3.11.1\\lib\\site-packages (from python-dateutil>=2.4->faker) (1.16.0)\n",
      "Downloading Faker-28.4.1-py3-none-any.whl (1.8 MB)\n",
      "   ---------------------------------------- 0.0/1.8 MB ? eta -:--:--\n",
      "   ---------------------------------------- 1.8/1.8 MB 9.1 MB/s eta 0:00:00\n",
      "Installing collected packages: faker\n",
      "Successfully installed faker-28.4.1\n"
     ]
    }
   ],
   "source": [
    "!pip install faker"
   ]
  },
  {
   "cell_type": "code",
   "execution_count": 4,
   "id": "fdce525b",
   "metadata": {},
   "outputs": [
    {
     "name": "stdout",
     "output_type": "stream",
     "text": [
      "Collecting pyodbc\n",
      "  Downloading pyodbc-5.1.0-cp311-cp311-win_amd64.whl.metadata (2.8 kB)\n",
      "Downloading pyodbc-5.1.0-cp311-cp311-win_amd64.whl (68 kB)\n",
      "Installing collected packages: pyodbc\n",
      "Successfully installed pyodbc-5.1.0\n"
     ]
    }
   ],
   "source": [
    "!pip install pyodbc"
   ]
  },
  {
   "cell_type": "code",
   "execution_count": 7,
   "id": "1206b255",
   "metadata": {},
   "outputs": [
    {
     "name": "stdout",
     "output_type": "stream",
     "text": [
      "Collecting faker-marketdata\n",
      "  Downloading faker_marketdata-0.4-py3-none-any.whl.metadata (1.6 kB)\n",
      "Requirement already satisfied: Faker>=9.3.1 in c:\\users\\leandro\\.pyenv\\pyenv-win\\versions\\3.11.1\\lib\\site-packages (from faker-marketdata) (28.4.1)\n",
      "Collecting pycountry>=22.3.5 (from faker-marketdata)\n",
      "  Downloading pycountry-24.6.1-py3-none-any.whl.metadata (12 kB)\n",
      "Requirement already satisfied: python-dateutil>=2.4 in c:\\users\\leandro\\.pyenv\\pyenv-win\\versions\\3.11.1\\lib\\site-packages (from Faker>=9.3.1->faker-marketdata) (2.8.2)\n",
      "Requirement already satisfied: six>=1.5 in c:\\users\\leandro\\.pyenv\\pyenv-win\\versions\\3.11.1\\lib\\site-packages (from python-dateutil>=2.4->Faker>=9.3.1->faker-marketdata) (1.16.0)\n",
      "Downloading faker_marketdata-0.4-py3-none-any.whl (8.5 kB)\n",
      "Downloading pycountry-24.6.1-py3-none-any.whl (6.3 MB)\n",
      "   ---------------------------------------- 0.0/6.3 MB ? eta -:--:--\n",
      "   ----------------------- ---------------- 3.7/6.3 MB 19.9 MB/s eta 0:00:01\n",
      "   ---------------------------------------  6.3/6.3 MB 19.3 MB/s eta 0:00:01\n",
      "   ---------------------------------------  6.3/6.3 MB 19.3 MB/s eta 0:00:01\n",
      "   ---------------------------------------- 6.3/6.3 MB 9.7 MB/s eta 0:00:00\n",
      "Installing collected packages: pycountry, faker-marketdata\n",
      "Successfully installed faker-marketdata-0.4 pycountry-24.6.1\n"
     ]
    }
   ],
   "source": [
    "!pip install faker-marketdata"
   ]
  },
  {
   "cell_type": "code",
   "execution_count": 8,
   "id": "4048f318",
   "metadata": {},
   "outputs": [],
   "source": [
    "import pyodbc\n",
    "\n",
    "from faker import Faker\n",
    "from faker_marketdata import MarketDataProvider\n",
    "\n",
    "fake = Faker()\n",
    "fake.add_provider(MarketDataProvider)\n",
    "\n",
    "# Connect to the SQL server database\n",
    "conn = pyodbc.connect('DRIVER={SQL Server};SERVER=NARNIA\\SQLEXPRESS;DATABASE=metastock;UID=sa;PWD=askbill3')\n",
    "\n",
    "# Create a cursor object\n",
    "cursor = conn.cursor()\n",
    "\n",
    "# Define the number of records to generate\n",
    "num_records = 5\n",
    "\n",
    "# Loop over the number of records and insert fake data into the table\n",
    "for i in range(num_records):\n",
    "    # Generate fake data using Python Faker library\n",
    "    isin_code = fake.isin()\n",
    "    ticker = fake.ticker()\n",
    "    name = fake.name()\n",
    "    issuer = '0db61b8c-7d00-47c5-9501-7594a28d7087'\n",
    "    issue_date = fake.date()\n",
    "    issue_amount = 15\n",
    "\n",
    "    # Insert fake data into the SQL server table\n",
    "    cursor.execute(\"INSERT INTO dbo.securities (isin_code, ticker, name, issuer, issue_date, issue_amount) VALUES (?, ?, ?, ?, ?, ?)\",\n",
    "                   (isin_code, ticker, name, issuer, issue_date, issue_amount))\n",
    "\n",
    "# Commit the changes\n",
    "conn.commit()\n",
    "\n",
    "# Close the cursor and the connection\n",
    "cursor.close()\n",
    "conn.close()"
   ]
  },
  {
   "cell_type": "code",
   "execution_count": null,
   "id": "3d3bca61",
   "metadata": {},
   "outputs": [],
   "source": []
  }
 ],
 "metadata": {
  "kernelspec": {
   "display_name": "Python 3 (ipykernel)",
   "language": "python",
   "name": "python3"
  },
  "language_info": {
   "codemirror_mode": {
    "name": "ipython",
    "version": 3
   },
   "file_extension": ".py",
   "mimetype": "text/x-python",
   "name": "python",
   "nbconvert_exporter": "python",
   "pygments_lexer": "ipython3",
   "version": "3.11.1"
  }
 },
 "nbformat": 4,
 "nbformat_minor": 5
}
